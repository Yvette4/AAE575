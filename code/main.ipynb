{
 "cells": [
  {
   "cell_type": "markdown",
   "metadata": {},
   "source": [
    "## Some heading to talk about project"
   ]
  },
  {
   "cell_type": "code",
   "execution_count": 10,
   "metadata": {},
   "outputs": [],
   "source": [
    "import numpy as np\n",
    "import pptk\n",
    "\n",
    "# Load the point cloud data\n",
    "target_data = []\n",
    "filename = 'ENVISAT.fbx.xyz'\n",
    "with open(filename,'r') as f:\n",
    "    for line in f.readlines():\n",
    "        line_data = line.split()\n",
    "        x, y, z = line_data\n",
    "        target_data.append([float(x), float(y), float(z)])"
   ]
  },
  {
   "cell_type": "code",
   "execution_count": 11,
   "metadata": {},
   "outputs": [],
   "source": [
    "# Visualize the target model\n",
    "v = pptk.viewer(target_data)"
   ]
  },
  {
   "cell_type": "markdown",
   "metadata": {},
   "source": [
    "### Generating Point Cloud Data\n"
   ]
  },
  {
   "cell_type": "code",
   "execution_count": 17,
   "metadata": {},
   "outputs": [
    {
     "name": "stdout",
     "output_type": "stream",
     "text": [
      "[[ 0.0000000e+00 -0.0000000e+00  1.2246468e-16]\n",
      " [ 0.0000000e+00 -0.0000000e+00  0.0000000e+00]\n",
      " [-1.2246468e-16 -0.0000000e+00  0.0000000e+00]]\n"
     ]
    }
   ],
   "source": [
    "# Transformation matrices\n",
    "def transform(phi, theta, gamma):\n",
    "    ''' Creates the transform matrix R\n",
    "    ARGS:\n",
    "        phi (rad):      rotation about x-axis\n",
    "        theta (rad):    rotation about y-axis\n",
    "        gamma(rad):     rotation about z-axis\n",
    "    '''\n",
    "    R_x = np.array([\n",
    "        [1,  0,            0          ],\n",
    "        [0,  np.cos(phi),  np.sin(phi)],\n",
    "        [0, -np.sin(phi),  np.cos(phi)]\n",
    "    ])\n",
    "    R_y = np.array([\n",
    "        [np.cos(theta), 0, -np.sin(theta)],\n",
    "        [0,             1,  0            ],\n",
    "        [np.sin(theta), 0,  np.cos(theta)]\n",
    "    ])\n",
    "    R_z = np.array([\n",
    "        [ np.cos(gamma), np.sin(gamma), 0],\n",
    "        [-np.sin(gamma), np.cos(gamma), 0],\n",
    "        [0,              0,             1]\n",
    "    ])\n",
    "\n",
    "    R = np.cross(np.cross(R_y, R_x), R_z)\n",
    "    \n",
    "    return R\n",
    "\n",
    "def simulated_positin(xyz, T, R):\n",
    "    ''' Given target model computes the simulated sensor data\n",
    "    ARGS:\n",
    "        xyz (Nx3):    point cloud data of the target model\n",
    "        T (3x1):      \n",
    "    '''\n",
    "    return 0\n",
    "\n",
    "\n"
   ]
  },
  {
   "cell_type": "code",
   "execution_count": 23,
   "metadata": {},
   "outputs": [
    {
     "name": "stdout",
     "output_type": "stream",
     "text": [
      "3.141592653589793\n"
     ]
    }
   ],
   "source": [
    "# Reproducing Experiment 1 - \n",
    "#   (x,y,z) = (10,0,0) meters\n",
    "#   (phi, theta, gamma) = (-180,0,0) degrees\n",
    "T_0 = np.array([ [33], [0], [0] ])\n",
    "\n",
    "\n",
    "\n",
    "\n",
    "np.deg2rad(90)\n",
    "print(np.deg2rad(180))\n",
    "\n",
    "print()\n"
   ]
  }
 ],
 "metadata": {
  "interpreter": {
   "hash": "b3696c121d939721e19db4715e1763a80d4ee31cef5af0c2deb2976cf5b31845"
  },
  "kernelspec": {
   "display_name": "Python 3.8.11 64-bit ('bme511': conda)",
   "language": "python",
   "name": "python3"
  },
  "language_info": {
   "codemirror_mode": {
    "name": "ipython",
    "version": 3
   },
   "file_extension": ".py",
   "mimetype": "text/x-python",
   "name": "python",
   "nbconvert_exporter": "python",
   "pygments_lexer": "ipython3",
   "version": "3.6.13"
  },
  "orig_nbformat": 4
 },
 "nbformat": 4,
 "nbformat_minor": 2
}
