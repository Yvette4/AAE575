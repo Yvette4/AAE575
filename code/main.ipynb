{
 "cells": [
  {
   "cell_type": "markdown",
   "metadata": {},
   "source": [
    "## Some heading to talk about project"
   ]
  },
  {
   "cell_type": "code",
   "execution_count": 6,
   "metadata": {},
   "outputs": [],
   "source": [
    "import numpy as np\n",
    "import pptk\n",
    "import random\n",
    "\n",
    "# Load the point cloud data\n",
    "target_data = []\n",
    "filename = 'ENVISAT.fbx.xyz'\n",
    "with open(filename,'r') as f:\n",
    "    for line in f.readlines():\n",
    "        line_data = line.split()\n",
    "        x, y, z = line_data\n",
    "        target_data.append([float(x), float(y), float(z)])\n",
    "target_data = np.asarray(target_data)"
   ]
  },
  {
   "cell_type": "code",
   "execution_count": 5,
   "metadata": {},
   "outputs": [],
   "source": [
    "# Visualize the target model\n",
    "v = pptk.viewer(target_data)\n",
    "v.set(lookat=(0,0,-5))"
   ]
  },
  {
   "cell_type": "markdown",
   "metadata": {},
   "source": [
    "### Generating Point Cloud Data\n"
   ]
  },
  {
   "cell_type": "code",
   "execution_count": 34,
   "metadata": {},
   "outputs": [],
   "source": [
    "# Transformation matrices\n",
    "def transform(phi, theta, gamma):\n",
    "    ''' Creates the transform matrix R\n",
    "    ARGS:\n",
    "        phi (rad):      rotation about x-axis\n",
    "        theta (rad):    rotation about y-axis\n",
    "        gamma(rad):     rotation about z-axis\n",
    "    RETURN:\n",
    "        R:              3x3 rotation matrix\n",
    "    '''\n",
    "    R_x = np.array([\n",
    "        [1,  0,            0          ],\n",
    "        [0,  np.cos(phi),  np.sin(phi)],\n",
    "        [0, -np.sin(phi),  np.cos(phi)]\n",
    "    ])\n",
    "    R_y = np.array([\n",
    "        [np.cos(theta), 0, -np.sin(theta)],\n",
    "        [0,             1,  0            ],\n",
    "        [np.sin(theta), 0,  np.cos(theta)]\n",
    "    ])\n",
    "    R_z = np.array([\n",
    "        [ np.cos(gamma), np.sin(gamma), 0],\n",
    "        [-np.sin(gamma), np.cos(gamma), 0],\n",
    "        [0,              0,             1]\n",
    "    ])\n",
    "\n",
    "    R = np.cross(np.cross(R_y, R_x), R_z)\n",
    "    return R\n",
    "\n",
    "def _calculate_error(xyz, err):\n",
    "    # model error with gaussian distribution, zero mean, std dev of err\n",
    "    gauss_err = random.gauss(0, err)\n",
    "    if gauss_err > err or gauss_err < -err:\n",
    "        gauss_err = err\n",
    "\n",
    "    dist_squared = xyz[0]**2 + xyz[1]**2 + xyz[2]**2 + err\n",
    "    axis = random.choice([0, 1, 2]) # axis on which to apply the error\n",
    "\n",
    "    new_dist = 0\n",
    "    adjust = err\n",
    "    thresh = err/2\n",
    "    for _ in range(30):\n",
    "        if axis == 0:\n",
    "            new_dist = (xyz[0] + adjust)**2 + xyz[1]**2 + xyz[2]**2\n",
    "        elif axis == 1:\n",
    "            new_dist = xyz[0]**2 + (xyz[1] + adjust)**2 + xyz[2]**2\n",
    "        if axis == 2:\n",
    "            new_dist = xyz[0]**2 + xyz[1]**2 + (xyz[2] + adjust)**2 \n",
    "\n",
    "        if new_dist < dist_squared + thresh and new_dist > dist_squared - thresh:\n",
    "            break\n",
    "        elif new_dist > dist_squared + thresh:\n",
    "            adjust -= thresh\n",
    "        elif new_dist < dist_squared - thresh:\n",
    "            adjust += thresh\n",
    "\n",
    "    # Update the axis that has the error\n",
    "    for i in range(3):\n",
    "        if i == axis:\n",
    "            xyz[i] += adjust\n",
    "    return xyz\n",
    "\n",
    "def simulated_position(xyz, T_0, R, alpha_h, alpha_v, d_err):\n",
    "    ''' Given target model computes the simulated sensor data\n",
    "    ARGS:\n",
    "        xyz (Nx3):      point cloud data of the target model\n",
    "        T_0 (3x1):      relative position\n",
    "        R:              3x3 rotation matrix\n",
    "        alpha_h (rad):  horizontal observable range\n",
    "        alpha_v (rad):  vertical observable range\n",
    "        d_err (m):     max sensor distance error\n",
    "    '''\n",
    "    T = np.zeros([3,1])\n",
    "    new_xyz = []\n",
    "    for entry in xyz:\n",
    "        # Each entry contains x,y,z\n",
    "        entry_T = entry.reshape(3,1) # transpose data into column vector\n",
    "        T = T_0 + entry_T\n",
    "        sim = np.dot(R, entry_T) + T\n",
    "\n",
    "        # Check if the new point is within the sensor range\n",
    "        H_range = sim[0] * np.tan(alpha_h / 2) # y\n",
    "        V_range = sim[0] * np.tan(alpha_v / 2) # z\n",
    "        if sim[1] < H_range and sim[1] > -H_range and \\\n",
    "            sim[2] < V_range and sim[2] > -V_range:\n",
    "            # Add distance error\n",
    "            sim = _calculate_error(sim, d_err)\n",
    "            new_xyz.append([sim[0], sim[1], sim[2]])\n",
    "    return new_xyz\n"
   ]
  },
  {
   "cell_type": "code",
   "execution_count": 35,
   "metadata": {},
   "outputs": [],
   "source": [
    "alpha_h = np.deg2rad(43.6)  # obtained from sensor spec\n",
    "alpha_v = np.deg2rad(34.6)  # obtained from sensor spec\n",
    "dist_error = 0.01           # 1 cm chosen as per paper\n",
    "\n",
    "# Reproducing Experiment 1\n",
    "#   (x,y,z) = (10,0,0) meters\n",
    "#   (phi, theta, gamma) = (-180,0,0) degrees\n",
    "T_0 = np.array([ [10], [0], [0] ])\n",
    "R = transform(np.deg2rad(-180), 0, 0)\n",
    "new_point_cloud = simulated_position(target_data, T_0, R, alpha_h, alpha_v, dist_error)\n",
    "\n",
    "v = pptk.viewer(new_point_cloud)\n",
    "v.set(lookat=(0,0,-5))"
   ]
  },
  {
   "cell_type": "code",
   "execution_count": 9,
   "metadata": {},
   "outputs": [],
   "source": [
    "# Reproducing Experiment 2\n",
    "#   (x,y,z) = (2,0,0) meters\n",
    "#   (phi, theta, gamma) = (-180,0,0) degrees\n",
    "T_0 = np.array([ [2], [0], [0] ])\n",
    "R = transform(np.deg2rad(-180), 0, 0)\n",
    "new_point_cloud = simulated_position(target_data, T_0, R, alpha_h, alpha_v, dist_error)\n",
    "\n",
    "v = pptk.viewer(new_point_cloud)\n",
    "v.set(lookat=(0,0,-5))"
   ]
  }
 ],
 "metadata": {
  "interpreter": {
   "hash": "b3696c121d939721e19db4715e1763a80d4ee31cef5af0c2deb2976cf5b31845"
  },
  "kernelspec": {
   "display_name": "Python 3.8.11 64-bit ('bme511': conda)",
   "language": "python",
   "name": "python3"
  },
  "language_info": {
   "codemirror_mode": {
    "name": "ipython",
    "version": 3
   },
   "file_extension": ".py",
   "mimetype": "text/x-python",
   "name": "python",
   "nbconvert_exporter": "python",
   "pygments_lexer": "ipython3",
   "version": "3.6.13"
  },
  "orig_nbformat": 4
 },
 "nbformat": 4,
 "nbformat_minor": 2
}
