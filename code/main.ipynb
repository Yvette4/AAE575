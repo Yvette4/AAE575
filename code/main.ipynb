{
 "cells": [
  {
   "cell_type": "markdown",
   "metadata": {},
   "source": [
    "## Some heading to talk about project"
   ]
  },
  {
   "cell_type": "code",
   "execution_count": 12,
   "metadata": {},
   "outputs": [],
   "source": [
    "import numpy as np\n",
    "import pptk\n",
    "\n",
    "# Load the point cloud data\n",
    "target_data = []\n",
    "filename = 'ENVISAT.fbx.xyz'\n",
    "with open(filename,'r') as f:\n",
    "    for line in f.readlines():\n",
    "        line_data = line.split()\n",
    "        x, y, z = line_data\n",
    "        target_data.append([float(x), float(y), float(z)])\n",
    "target_data = np.asarray(target_data)"
   ]
  },
  {
   "cell_type": "code",
   "execution_count": 39,
   "metadata": {},
   "outputs": [],
   "source": [
    "# Visualize the target model\n",
    "v = pptk.viewer(target_data)"
   ]
  },
  {
   "cell_type": "markdown",
   "metadata": {},
   "source": [
    "### Generating Point Cloud Data\n"
   ]
  },
  {
   "cell_type": "code",
   "execution_count": 33,
   "metadata": {},
   "outputs": [],
   "source": [
    "# Transformation matrices\n",
    "def transform(phi, theta, gamma):\n",
    "    ''' Creates the transform matrix R\n",
    "    ARGS:\n",
    "        phi (rad):      rotation about x-axis\n",
    "        theta (rad):    rotation about y-axis\n",
    "        gamma(rad):     rotation about z-axis\n",
    "    '''\n",
    "    R_x = np.array([\n",
    "        [1,  0,            0          ],\n",
    "        [0,  np.cos(phi),  np.sin(phi)],\n",
    "        [0, -np.sin(phi),  np.cos(phi)]\n",
    "    ])\n",
    "    R_y = np.array([\n",
    "        [np.cos(theta), 0, -np.sin(theta)],\n",
    "        [0,             1,  0            ],\n",
    "        [np.sin(theta), 0,  np.cos(theta)]\n",
    "    ])\n",
    "    R_z = np.array([\n",
    "        [ np.cos(gamma), np.sin(gamma), 0],\n",
    "        [-np.sin(gamma), np.cos(gamma), 0],\n",
    "        [0,              0,             1]\n",
    "    ])\n",
    "\n",
    "    R = np.cross(np.cross(R_y, R_x), R_z)\n",
    "\n",
    "    return R\n",
    "\n",
    "def simulated_positin(xyz, T_0, R):\n",
    "    ''' Given target model computes the simulated sensor data\n",
    "    ARGS:\n",
    "        xyz (Nx3):  point cloud data of the target model\n",
    "        T_0 (3x1):  relative position\n",
    "    '''\n",
    "    T = np.zeros([3,1])\n",
    "    new_point_cloud = np.zeros(xyz.shape)\n",
    "    row = 0\n",
    "    for entry in xyz:\n",
    "        # Each entry contains x,y,z\n",
    "        entry_T = entry.reshape(3,1) # transpose data into column vector\n",
    "        T = T_0 + entry_T\n",
    "        sim = np.dot(R, entry_T) + T\n",
    "        new_point_cloud[row,:] = sim.reshape(1,3)\n",
    "        row += 1\n",
    "\n",
    "    return new_point_cloud"
   ]
  },
  {
   "cell_type": "code",
   "execution_count": 41,
   "metadata": {},
   "outputs": [],
   "source": [
    "# Reproducing Experiment 1 - \n",
    "#   (x,y,z) = (10,0,0) meters\n",
    "#   (phi, theta, gamma) = (-180,0,0) degrees\n",
    "T_0 = np.array([ [33], [0], [0] ])\n",
    "\n",
    "R = transform(np.deg2rad(-180), 0, 0)\n",
    "new_point_cloud = simulated_positin(target_data, T_0, R)\n",
    "v = pptk.viewer(new_point_cloud)"
   ]
  }
 ],
 "metadata": {
  "interpreter": {
   "hash": "b3696c121d939721e19db4715e1763a80d4ee31cef5af0c2deb2976cf5b31845"
  },
  "kernelspec": {
   "display_name": "Python 3.8.11 64-bit ('bme511': conda)",
   "language": "python",
   "name": "python3"
  },
  "language_info": {
   "codemirror_mode": {
    "name": "ipython",
    "version": 3
   },
   "file_extension": ".py",
   "mimetype": "text/x-python",
   "name": "python",
   "nbconvert_exporter": "python",
   "pygments_lexer": "ipython3",
   "version": "3.6.13"
  },
  "orig_nbformat": 4
 },
 "nbformat": 4,
 "nbformat_minor": 2
}
